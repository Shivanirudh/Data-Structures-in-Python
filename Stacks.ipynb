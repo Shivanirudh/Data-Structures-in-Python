{
 "cells": [
  {
   "cell_type": "markdown",
   "metadata": {},
   "source": [
    "# Stacks using Linked List"
   ]
  },
  {
   "cell_type": "code",
   "execution_count": 1,
   "metadata": {},
   "outputs": [],
   "source": [
    "class Node(object):\n",
    "    def __init__(self,value):\n",
    "        self.value = value\n",
    "        self.next = None\n",
    "        \n",
    "#STACK DIRECTION: <-\n",
    "class StackLL(object):\n",
    "    def __init__(self):\n",
    "        self.top = None\n",
    "        self.bottom = None\n",
    "        self.length = 0 \n",
    "    \n",
    "    def printStack(self):\n",
    "        temp = self.top\n",
    "        print(\"TOP|\",end=\" \")\n",
    "        while (temp is not None):\n",
    "            print(temp.value,end=\" \")\n",
    "            temp = temp.next\n",
    "        print(\"|BOTTOM\")\n",
    "    \n",
    "    def peek(self):\n",
    "        if(self.length == 0):\n",
    "            return None\n",
    "        return self.top.value\n",
    "    \n",
    "    def push(self,value):\n",
    "        new = Node(value)\n",
    "        if(self.length == 0):\n",
    "            self.top = new\n",
    "            self.bottom = new\n",
    "        else:\n",
    "            oldTop = self.top\n",
    "            self.top = new\n",
    "            self.top.next = oldTop\n",
    "        self.length+=1\n",
    "    \n",
    "    def pop(self):\n",
    "        if(self.length == 0):\n",
    "            return None\n",
    "        temp = self.top\n",
    "        self.top = self.top.next\n",
    "        self.length-=1\n",
    "        return temp.value"
   ]
  },
  {
   "cell_type": "markdown",
   "metadata": {},
   "source": [
    "## Testing"
   ]
  },
  {
   "cell_type": "code",
   "execution_count": 2,
   "metadata": {},
   "outputs": [],
   "source": [
    "stk = StackLL()"
   ]
  },
  {
   "cell_type": "code",
   "execution_count": 3,
   "metadata": {},
   "outputs": [
    {
     "name": "stdout",
     "output_type": "stream",
     "text": [
      "PEEK 3\n",
      "TOP| 3 2 1 |BOTTOM\n"
     ]
    }
   ],
   "source": [
    "stk.push(1)\n",
    "stk.push(2)\n",
    "stk.push(3)\n",
    "print(\"PEEK\",stk.peek())\n",
    "stk.printStack()"
   ]
  },
  {
   "cell_type": "code",
   "execution_count": 4,
   "metadata": {},
   "outputs": [
    {
     "name": "stdout",
     "output_type": "stream",
     "text": [
      "3\n",
      "TOP| 2 1 |BOTTOM\n"
     ]
    }
   ],
   "source": [
    "print(stk.pop())\n",
    "stk.printStack()"
   ]
  },
  {
   "cell_type": "code",
   "execution_count": 6,
   "metadata": {},
   "outputs": [
    {
     "name": "stdout",
     "output_type": "stream",
     "text": [
      "1\n",
      "TOP| |BOTTOM\n"
     ]
    }
   ],
   "source": [
    "print(stk.pop())\n",
    "stk.printStack()"
   ]
  },
  {
   "cell_type": "markdown",
   "metadata": {},
   "source": [
    "# Stacks using Arrays"
   ]
  },
  {
   "cell_type": "code",
   "execution_count": 7,
   "metadata": {},
   "outputs": [],
   "source": [
    "class StackArr(object):\n",
    "    def __init__(self):\n",
    "        self.stack = []\n",
    "        self.top = -1\n",
    "        \n",
    "    def printStack(self):\n",
    "        print(\"BOTTOM| \",self.stack,\" |TOP\")\n",
    "\n",
    "    def peek(self):\n",
    "        if(self.top == -1):\n",
    "            return None\n",
    "        return self.stack[self.top]\n",
    "    \n",
    "    def push(self,value):\n",
    "        self.stack.append(value)\n",
    "        self.top += 1\n",
    "        \n",
    "    def pop(self):\n",
    "        if(self.top == -1):\n",
    "            return None\n",
    "        self.top -= 1\n",
    "        return self.stack.pop()"
   ]
  },
  {
   "cell_type": "code",
   "execution_count": 8,
   "metadata": {},
   "outputs": [],
   "source": [
    "stk = StackArr()"
   ]
  },
  {
   "cell_type": "code",
   "execution_count": 9,
   "metadata": {},
   "outputs": [
    {
     "name": "stdout",
     "output_type": "stream",
     "text": [
      "PEEK 3\n",
      "BOTTOM|  [1, 2, 3]  |TOP\n"
     ]
    }
   ],
   "source": [
    "stk.push(1)\n",
    "stk.push(2)\n",
    "stk.push(3)\n",
    "print(\"PEEK\",stk.peek())\n",
    "stk.printStack()"
   ]
  },
  {
   "cell_type": "code",
   "execution_count": 10,
   "metadata": {},
   "outputs": [
    {
     "name": "stdout",
     "output_type": "stream",
     "text": [
      "3\n",
      "BOTTOM|  [1, 2]  |TOP\n"
     ]
    }
   ],
   "source": [
    "print(stk.pop())\n",
    "stk.printStack()"
   ]
  },
  {
   "cell_type": "code",
   "execution_count": 11,
   "metadata": {},
   "outputs": [
    {
     "name": "stdout",
     "output_type": "stream",
     "text": [
      "2\n",
      "BOTTOM|  [1]  |TOP\n"
     ]
    }
   ],
   "source": [
    "print(stk.pop())\n",
    "stk.printStack()"
   ]
  }
 ],
 "metadata": {
  "kernelspec": {
   "display_name": "Python 3",
   "language": "python",
   "name": "python3"
  },
  "language_info": {
   "codemirror_mode": {
    "name": "ipython",
    "version": 3
   },
   "file_extension": ".py",
   "mimetype": "text/x-python",
   "name": "python",
   "nbconvert_exporter": "python",
   "pygments_lexer": "ipython3",
   "version": "3.7.1"
  }
 },
 "nbformat": 4,
 "nbformat_minor": 2
}
