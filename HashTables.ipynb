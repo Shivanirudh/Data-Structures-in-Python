{
 "cells": [
  {
   "cell_type": "markdown",
   "metadata": {},
   "source": [
    "# Hashtables"
   ]
  },
  {
   "cell_type": "code",
   "execution_count": 110,
   "metadata": {},
   "outputs": [],
   "source": [
    "class Hash(object):\n",
    "    \n",
    "    def __init__(self,size):\n",
    "        self.data = [[]]*size\n",
    "        \n",
    "    def _hash(self,key):\n",
    "        hash = 0\n",
    "        for i in key:\n",
    "            hash = (hash + ord(i))%(len(self.data))\n",
    "        return hash\n",
    "    \n",
    "    def get(self,key):\n",
    "        hash = self._hash(key)\n",
    "        return self.data[hash]\n",
    "    \n",
    "    def put(self,key,value):\n",
    "        hash = self._hash(key)\n",
    "        temp = []\n",
    "        temp.append(key)\n",
    "        temp.append(value)\n",
    "        self.data[hash].append(temp)\n",
    "        "
   ]
  },
  {
   "cell_type": "markdown",
   "metadata": {},
   "source": [
    "## Testing"
   ]
  },
  {
   "cell_type": "code",
   "execution_count": 115,
   "metadata": {},
   "outputs": [],
   "source": [
    "table = Hash(50)"
   ]
  },
  {
   "cell_type": "code",
   "execution_count": 116,
   "metadata": {},
   "outputs": [],
   "source": [
    "table.put(\"aaa\",\"hunter\")"
   ]
  },
  {
   "cell_type": "code",
   "execution_count": 117,
   "metadata": {},
   "outputs": [
    {
     "data": {
      "text/plain": [
       "[['aaa', 'hunter']]"
      ]
     },
     "execution_count": 117,
     "metadata": {},
     "output_type": "execute_result"
    }
   ],
   "source": [
    "table.get(\"aaa\")"
   ]
  }
 ],
 "metadata": {
  "kernelspec": {
   "display_name": "Python 3",
   "language": "python",
   "name": "python3"
  },
  "language_info": {
   "codemirror_mode": {
    "name": "ipython",
    "version": 3
   },
   "file_extension": ".py",
   "mimetype": "text/x-python",
   "name": "python",
   "nbconvert_exporter": "python",
   "pygments_lexer": "ipython3",
   "version": "3.7.1"
  }
 },
 "nbformat": 4,
 "nbformat_minor": 2
}
