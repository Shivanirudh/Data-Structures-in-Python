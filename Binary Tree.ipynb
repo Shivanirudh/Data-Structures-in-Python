{
 "cells": [
  {
   "cell_type": "code",
   "execution_count": 123,
   "metadata": {},
   "outputs": [],
   "source": [
    "class Node(object):\n",
    "    def __init__(self,value):\n",
    "        self.value = value\n",
    "        self.left = None\n",
    "        self.right = None\n",
    "\n",
    "class BinarySearchTree(object):\n",
    "    def __init__(self):\n",
    "        self.root = None\n",
    "        \n",
    "    def preOrder(self,root=0):\n",
    "        if(root == 0):\n",
    "            root = self.root\n",
    "        if root is None:\n",
    "            return\n",
    "        print(root.value, end=\" \")\n",
    "        self.preOrder(root.left)\n",
    "        self.preOrder(root.right)\n",
    "        \n",
    "    def inOrder(self,root=0):\n",
    "        if(root == 0):\n",
    "            root = self.root\n",
    "        if root is None:\n",
    "            return\n",
    "        self.inOrder(root.left)\n",
    "        print(root.value, end=\" \")\n",
    "        self.inOrder(root.right)\n",
    "        \n",
    "    def postOrder(self,root=0):\n",
    "        if(root == 0):\n",
    "            root = self.root\n",
    "        if root is None:\n",
    "            return\n",
    "        self.postOrder(root.left)\n",
    "        self.postOrder(root.right)\n",
    "        print(root.value, end=\" \")\n",
    "        \n",
    "    def lookUp(self,value):\n",
    "        if self.root is None:\n",
    "            return \"EMPTY\"\n",
    "        cur = self.root\n",
    "        while(True):\n",
    "            if(value > cur.value):\n",
    "                if cur.right is None:\n",
    "                    return \"ABSENT\"\n",
    "                else:\n",
    "                    cur = cur.right\n",
    "            elif(value < cur.value):\n",
    "                if cur.left is None:\n",
    "                    return \"ABSENT\"\n",
    "                else:\n",
    "                    cur = cur.left\n",
    "            elif(value == cur.value):\n",
    "                return \"FOUND\"\n",
    "            \n",
    "    def findMinVal(self):\n",
    "        if self.root is None:\n",
    "            return None\n",
    "        cur = self.root\n",
    "        minval = None\n",
    "        while cur.left is not None:\n",
    "            minval = cur.value\n",
    "            cur = cur.left\n",
    "        return minval\n",
    "    \n",
    "    def insert(self,value):\n",
    "        new = Node(value)\n",
    "        if self.root is None:\n",
    "            self.root = new\n",
    "            return\n",
    "        cur = self.root\n",
    "        while(True):\n",
    "            if(value > cur.value):\n",
    "                if cur.right is None:\n",
    "                    cur.right = new\n",
    "                    return\n",
    "                else:\n",
    "                    cur = cur.right\n",
    "            elif(value < cur.value):\n",
    "                if cur.left is None:\n",
    "                    cur.left= new\n",
    "                    return\n",
    "                else:\n",
    "                    cur = cur.left\n",
    "            elif(value == cur.value):\n",
    "                print(value,\"DUPLICATE\")\n",
    "                return\n",
    "        \n",
    "    def delete(self,value):\n",
    "        if self.root is None:\n",
    "            return\n",
    "        cur = self.root\n",
    "        parent = None\n",
    "        while(True):\n",
    "            if(value > cur.value):\n",
    "                if cur.right is None:\n",
    "                    return \"ABSENT\"\n",
    "                else:\n",
    "                    parent = cur\n",
    "                    cur = cur.right\n",
    "            elif(value < cur.value):\n",
    "                if cur.left is None:\n",
    "                    return \"ABSENT\"\n",
    "                else:\n",
    "                    parent = cur\n",
    "                    cur = cur.left\n",
    "            elif(value == cur.value):\n",
    "                #RIGHT CHILD NONE\n",
    "                if cur.right is None:\n",
    "                    \n",
    "                    return\n",
    "                else:\n",
    "                    #RIGHT HAS ONLY ANOTHER RIGHT CHILD\n",
    "                    if cur.right.left is None:\n",
    "\n",
    "                        return \n",
    "                    #RIGHT HAS LEFT AND RIGHT NODES\n",
    "                    else:\n",
    "                        minval = self.findMinVal()\n",
    "\n",
    "                        return"
   ]
  },
  {
   "cell_type": "markdown",
   "metadata": {},
   "source": [
    "## Testing"
   ]
  },
  {
   "cell_type": "code",
   "execution_count": 124,
   "metadata": {},
   "outputs": [],
   "source": [
    "bst = BinarySearchTree()\n",
    "arr = [5,3,2,4,7,6,8]\n",
    "for i in arr:\n",
    "    bst.insert(i)"
   ]
  },
  {
   "cell_type": "code",
   "execution_count": 125,
   "metadata": {},
   "outputs": [
    {
     "name": "stdout",
     "output_type": "stream",
     "text": [
      "5 3 2 4 7 6 8 \n",
      "2 3 4 5 6 7 8 \n",
      "2 4 3 6 8 7 5 "
     ]
    }
   ],
   "source": [
    "bst.preOrder()\n",
    "print(\"\")\n",
    "bst.inOrder()\n",
    "print(\"\")\n",
    "bst.postOrder()"
   ]
  },
  {
   "cell_type": "code",
   "execution_count": 126,
   "metadata": {},
   "outputs": [
    {
     "data": {
      "text/plain": [
       "'FOUND'"
      ]
     },
     "execution_count": 126,
     "metadata": {},
     "output_type": "execute_result"
    }
   ],
   "source": [
    "bst.lookUp(8)"
   ]
  },
  {
   "cell_type": "markdown",
   "metadata": {},
   "source": [
    "### Deletion"
   ]
  },
  {
   "cell_type": "code",
   "execution_count": 127,
   "metadata": {},
   "outputs": [],
   "source": [
    "bst.delete(5)"
   ]
  },
  {
   "cell_type": "code",
   "execution_count": null,
   "metadata": {},
   "outputs": [],
   "source": [
    "bst.inOrder()"
   ]
  }
 ],
 "metadata": {
  "kernelspec": {
   "display_name": "Python 3",
   "language": "python",
   "name": "python3"
  },
  "language_info": {
   "codemirror_mode": {
    "name": "ipython",
    "version": 3
   },
   "file_extension": ".py",
   "mimetype": "text/x-python",
   "name": "python",
   "nbconvert_exporter": "python",
   "pygments_lexer": "ipython3",
   "version": "3.7.1"
  }
 },
 "nbformat": 4,
 "nbformat_minor": 2
}
