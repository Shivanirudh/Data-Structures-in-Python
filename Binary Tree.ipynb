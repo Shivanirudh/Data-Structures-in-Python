{
 "cells": [
  {
   "cell_type": "code",
   "execution_count": 24,
   "metadata": {},
   "outputs": [],
   "source": [
    "class Node(object):\n",
    "    def __init__(self,value):\n",
    "        self.value = value\n",
    "        self.left = None\n",
    "        self.right = None\n",
    "\n",
    "class BinarySearchTree(object):\n",
    "    def __init__(self):\n",
    "        self.root = None\n",
    "        \n",
    "    def inorder(self,root=0):\n",
    "        if(root == 0):\n",
    "            root = self.root\n",
    "        if(root == None):\n",
    "            return\n",
    "        self.inorder(root.left)\n",
    "        print(root.value)\n",
    "        self.inorder(root.right)\n",
    "        \n",
    "    def insert(self,value):\n",
    "        new = Node(value)\n",
    "        if(self.root == None):\n",
    "            self.root = new\n",
    "            return\n",
    "        cur = self.root\n",
    "        while(True):\n",
    "            if(value > cur.value):\n",
    "                if(cur.right == None):\n",
    "                    cur.right = new\n",
    "                    return\n",
    "                else:\n",
    "                    cur = cur.right\n",
    "            elif(value < cur.value):\n",
    "                if(cur.left == None):\n",
    "                    cur.left= new\n",
    "                    return\n",
    "                else:\n",
    "                    cur = cur.left\n",
    "            elif(value == cur.value):\n",
    "                print(\"DUPLICATE VALUES NOT ALLOWED\")\n",
    "                return"
   ]
  },
  {
   "cell_type": "code",
   "execution_count": 29,
   "metadata": {},
   "outputs": [],
   "source": [
    "bst = BinarySearchTree()\n",
    "bst.insert(5)\n",
    "bst.insert(3)\n",
    "bst.insert(2)\n",
    "bst.insert(4)\n",
    "bst.insert(7)\n",
    "bst.insert(6)\n",
    "bst.insert(8)"
   ]
  },
  {
   "cell_type": "code",
   "execution_count": 30,
   "metadata": {},
   "outputs": [
    {
     "name": "stdout",
     "output_type": "stream",
     "text": [
      "2\n",
      "3\n",
      "4\n",
      "5\n",
      "6\n",
      "7\n",
      "8\n"
     ]
    }
   ],
   "source": [
    "bst.inorder()"
   ]
  },
  {
   "cell_type": "code",
   "execution_count": null,
   "metadata": {},
   "outputs": [],
   "source": []
  }
 ],
 "metadata": {
  "kernelspec": {
   "display_name": "Python 3",
   "language": "python",
   "name": "python3"
  },
  "language_info": {
   "codemirror_mode": {
    "name": "ipython",
    "version": 3
   },
   "file_extension": ".py",
   "mimetype": "text/x-python",
   "name": "python",
   "nbconvert_exporter": "python",
   "pygments_lexer": "ipython3",
   "version": "3.7.1"
  }
 },
 "nbformat": 4,
 "nbformat_minor": 2
}
