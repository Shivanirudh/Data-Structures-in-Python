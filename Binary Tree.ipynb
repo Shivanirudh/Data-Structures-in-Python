{
 "cells": [
  {
   "cell_type": "code",
   "execution_count": 77,
   "metadata": {},
   "outputs": [],
   "source": [
    "class Node(object):\n",
    "    def __init__(self,value):\n",
    "        self.value = value\n",
    "        self.left = None\n",
    "        self.right = None\n",
    "\n",
    "class BinarySearchTree(object):\n",
    "    def __init__(self):\n",
    "        self.root = None\n",
    "        \n",
    "    def preOrder(self,root=0):\n",
    "        if(root == 0):\n",
    "            root = self.root\n",
    "        if root is None:\n",
    "            return\n",
    "        print(root.value, end=\" \")\n",
    "        self.preOrder(root.left)\n",
    "        self.preOrder(root.right)\n",
    "        \n",
    "    def inOrder(self,root=0):\n",
    "        if(root == 0):\n",
    "            root = self.root\n",
    "        if root is None:\n",
    "            return\n",
    "        self.inOrder(root.left)\n",
    "        print(root.value, end=\" \")\n",
    "        self.inOrder(root.right)\n",
    "        \n",
    "    def postOrder(self,root=0):\n",
    "        if(root == 0):\n",
    "            root = self.root\n",
    "        if root is None:\n",
    "            return\n",
    "        self.postOrder(root.left)\n",
    "        self.postOrder(root.right)\n",
    "        print(root.value, end=\" \")\n",
    "        \n",
    "    def lookUp(self,value):\n",
    "        if self.root is None:\n",
    "            return \"EMPTY\"\n",
    "        cur = self.root\n",
    "        while(True):\n",
    "            if(value > cur.value):\n",
    "                if cur.right is None:\n",
    "                    return \"ABSENT\"\n",
    "                else:\n",
    "                    cur = cur.right\n",
    "            elif(value < cur.value):\n",
    "                if cur.left is None:\n",
    "                    return \"ABSENT\"\n",
    "                else:\n",
    "                    cur = cur.left\n",
    "            elif(value == cur.value):\n",
    "                return \"FOUND\"\n",
    "            \n",
    "    def findMinVal(self,node):\n",
    "        if node is None:\n",
    "            return None\n",
    "        cur = node\n",
    "        minval = None\n",
    "        while cur is not None:\n",
    "            minval = cur.value\n",
    "            cur = cur.left\n",
    "        return minval\n",
    "    \n",
    "    def insert(self,value):\n",
    "        new = Node(value)\n",
    "        if self.root is None:\n",
    "            self.root = new\n",
    "            return\n",
    "        cur = self.root\n",
    "        while(True):\n",
    "            if(value > cur.value):\n",
    "                if cur.right is None:\n",
    "                    cur.right = new\n",
    "                    return\n",
    "                else:\n",
    "                    cur = cur.right\n",
    "            elif(value < cur.value):\n",
    "                if cur.left is None:\n",
    "                    cur.left= new\n",
    "                    return\n",
    "                else:\n",
    "                    cur = cur.left\n",
    "            elif(value == cur.value):\n",
    "                print(value,\"DUPLICATE\")\n",
    "                return\n",
    "        \n",
    "    def delete(self,value):\n",
    "        if self.root is None:\n",
    "            return \"EMPTY\"\n",
    "        cur = self.root\n",
    "        parent = None\n",
    "        while(True):\n",
    "            if(value > cur.value):\n",
    "                if cur.right is None:\n",
    "                    return \"ABSENT\"\n",
    "                else:\n",
    "                    parent = cur\n",
    "                    cur = cur.right\n",
    "            elif(value < cur.value):\n",
    "                if cur.left is None:\n",
    "                    return \"ABSENT\"\n",
    "                else:\n",
    "                    parent = cur\n",
    "                    cur = cur.left\n",
    "            #VALUE FOUND, DELETE IT\n",
    "            elif(value == cur.value):\n",
    "                #IF LEAF NODE\n",
    "                if cur.left is None and cur.right is None:\n",
    "                    if parent is None:\n",
    "                        self.root = None\n",
    "                    else:\n",
    "                        if parent.left == cur:\n",
    "                            parent.left = None\n",
    "                        else:\n",
    "                            parent.right = None\n",
    "                #EITHER LEFT OR RIGHT NODE IS NOT NULL\n",
    "                elif cur.left is None or cur.right is None:\n",
    "                    if parent is None:\n",
    "                        if cur.left is None:\n",
    "                            self.root = cur.right\n",
    "                        else:\n",
    "                            self.root = cur.left\n",
    "                    else:\n",
    "                        #IF LEFT NODE IS NONE\n",
    "                        if cur.left is None:\n",
    "                            if parent.left == cur:\n",
    "                                parent.left = cur.right\n",
    "                            else:\n",
    "                                parent.right = cur.right\n",
    "                        #IF RIGHT NODE IS NONE\n",
    "                        else:\n",
    "                            if parent.left == cur:\n",
    "                                parent.left = cur.left\n",
    "                            else:\n",
    "                                parent.right = cur.left\n",
    "                #LEFT AND RIGHT NODES ARE NOT NULL\n",
    "                else:\n",
    "                    minval = self.findMinVal(cur.right)\n",
    "                    self.delete(minval)\n",
    "                    cur.value = minval\n",
    "                return"
   ]
  },
  {
   "cell_type": "markdown",
   "metadata": {},
   "source": [
    "## Testing"
   ]
  },
  {
   "cell_type": "code",
   "execution_count": 78,
   "metadata": {},
   "outputs": [],
   "source": [
    "bst = BinarySearchTree()\n",
    "arr = [5,3,2,4,7,6,8]\n",
    "for i in arr:\n",
    "    bst.insert(i)"
   ]
  },
  {
   "cell_type": "code",
   "execution_count": 79,
   "metadata": {},
   "outputs": [
    {
     "name": "stdout",
     "output_type": "stream",
     "text": [
      "5 3 2 4 7 6 8 \n",
      "2 3 4 5 6 7 8 \n",
      "2 4 3 6 8 7 5 "
     ]
    }
   ],
   "source": [
    "bst.preOrder()\n",
    "print(\"\")\n",
    "bst.inOrder()\n",
    "print(\"\")\n",
    "bst.postOrder()"
   ]
  },
  {
   "cell_type": "code",
   "execution_count": 80,
   "metadata": {},
   "outputs": [
    {
     "data": {
      "text/plain": [
       "'FOUND'"
      ]
     },
     "execution_count": 80,
     "metadata": {},
     "output_type": "execute_result"
    }
   ],
   "source": [
    "bst.lookUp(8)"
   ]
  },
  {
   "cell_type": "markdown",
   "metadata": {},
   "source": [
    "### Deletion"
   ]
  },
  {
   "cell_type": "code",
   "execution_count": 81,
   "metadata": {},
   "outputs": [
    {
     "name": "stdout",
     "output_type": "stream",
     "text": [
      "2 3 4 5 6 7 "
     ]
    }
   ],
   "source": [
    "#LEAF\n",
    "bst.delete(8)\n",
    "bst.inOrder()"
   ]
  },
  {
   "cell_type": "code",
   "execution_count": 82,
   "metadata": {},
   "outputs": [
    {
     "name": "stdout",
     "output_type": "stream",
     "text": [
      "2 3 4 5 6 "
     ]
    }
   ],
   "source": [
    "#1 SUB NODE(8 DELETED)\n",
    "bst.delete(7)\n",
    "bst.inOrder()"
   ]
  },
  {
   "cell_type": "code",
   "execution_count": 83,
   "metadata": {},
   "outputs": [
    {
     "name": "stdout",
     "output_type": "stream",
     "text": [
      "2 3 4 6 "
     ]
    }
   ],
   "source": [
    "#ROOT / NO SUBNODE\n",
    "bst.delete(5)\n",
    "bst.inOrder()"
   ]
  }
 ],
 "metadata": {
  "kernelspec": {
   "display_name": "Python 3",
   "language": "python",
   "name": "python3"
  },
  "language_info": {
   "codemirror_mode": {
    "name": "ipython",
    "version": 3
   },
   "file_extension": ".py",
   "mimetype": "text/x-python",
   "name": "python",
   "nbconvert_exporter": "python",
   "pygments_lexer": "ipython3",
   "version": "3.7.1"
  }
 },
 "nbformat": 4,
 "nbformat_minor": 2
}
