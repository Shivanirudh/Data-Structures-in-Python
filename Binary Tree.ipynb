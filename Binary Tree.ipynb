{
 "cells": [
  {
   "cell_type": "code",
   "execution_count": 82,
   "metadata": {},
   "outputs": [],
   "source": [
    "class Node(object):\n",
    "    def __init__(self,value):\n",
    "        self.value = value\n",
    "        self.left = None\n",
    "        self.right = None\n",
    "\n",
    "class BinarySearchTree(object):\n",
    "    def __init__(self):\n",
    "        self.root = None\n",
    "        \n",
    "    def preOrder(self,root=0):\n",
    "        if(root == 0):\n",
    "            root = self.root\n",
    "        if root is None:\n",
    "            return\n",
    "        print(root.value, end=\" \")\n",
    "        self.preOrder(root.left)\n",
    "        self.preOrder(root.right)\n",
    "        \n",
    "    def inOrder(self,root=0):\n",
    "        if(root == 0):\n",
    "            root = self.root\n",
    "        if root is None:\n",
    "            return\n",
    "        self.inOrder(root.left)\n",
    "        print(root.value, end=\" \")\n",
    "        self.inOrder(root.right)\n",
    "        \n",
    "    def postOrder(self,root=0):\n",
    "        if(root == 0):\n",
    "            root = self.root\n",
    "        if root is None:\n",
    "            return\n",
    "        self.postOrder(root.left)\n",
    "        self.postOrder(root.right)\n",
    "        print(root.value, end=\" \")\n",
    "        \n",
    "    def lookUp(self,value):\n",
    "        if self.root is None:\n",
    "            return \"EMPTY\"\n",
    "        cur = self.root\n",
    "        while(True):\n",
    "            if(value > cur.value):\n",
    "                if cur.right is None:\n",
    "                    return \"ABSENT\"\n",
    "                else:\n",
    "                    cur = cur.right\n",
    "            elif(value < cur.value):\n",
    "                if cur.left is None:\n",
    "                    return \"ABSENT\"\n",
    "                else:\n",
    "                    cur = cur.left\n",
    "            elif(value == cur.value):\n",
    "                return \"FOUND\"\n",
    "            \n",
    "    \n",
    "    def insert(self,value):\n",
    "        new = Node(value)\n",
    "        if self.root is None:\n",
    "            self.root = new\n",
    "            return\n",
    "        cur = self.root\n",
    "        while(True):\n",
    "            if(value > cur.value):\n",
    "                if cur.right is None:\n",
    "                    cur.right = new\n",
    "                    return\n",
    "                else:\n",
    "                    cur = cur.right\n",
    "            elif(value < cur.value):\n",
    "                if cur.left is None:\n",
    "                    cur.left= new\n",
    "                    return\n",
    "                else:\n",
    "                    cur = cur.left\n",
    "            elif(value == cur.value):\n",
    "                print(value,\"DUPLICATE\")\n",
    "                return"
   ]
  },
  {
   "cell_type": "markdown",
   "metadata": {},
   "source": [
    "## Testing"
   ]
  },
  {
   "cell_type": "code",
   "execution_count": 83,
   "metadata": {},
   "outputs": [
    {
     "name": "stdout",
     "output_type": "stream",
     "text": [
      "6 DUPLICATE\n"
     ]
    }
   ],
   "source": [
    "bst = BinarySearchTree()\n",
    "bst.insert(5)\n",
    "bst.insert(3)\n",
    "bst.insert(2)\n",
    "bst.insert(4)\n",
    "bst.insert(7)\n",
    "bst.insert(6)\n",
    "bst.insert(6)"
   ]
  },
  {
   "cell_type": "code",
   "execution_count": 84,
   "metadata": {},
   "outputs": [
    {
     "name": "stdout",
     "output_type": "stream",
     "text": [
      "5 3 2 4 7 6 \n",
      "2 3 4 5 6 7 \n",
      "2 4 3 6 7 5 "
     ]
    }
   ],
   "source": [
    "bst.preOrder()\n",
    "print(\"\")\n",
    "bst.inOrder()\n",
    "print(\"\")\n",
    "bst.postOrder()"
   ]
  },
  {
   "cell_type": "code",
   "execution_count": 86,
   "metadata": {},
   "outputs": [
    {
     "data": {
      "text/plain": [
       "'ABSENT'"
      ]
     },
     "execution_count": 86,
     "metadata": {},
     "output_type": "execute_result"
    }
   ],
   "source": [
    "bst.lookUp(0)"
   ]
  }
 ],
 "metadata": {
  "kernelspec": {
   "display_name": "Python 3",
   "language": "python",
   "name": "python3"
  },
  "language_info": {
   "codemirror_mode": {
    "name": "ipython",
    "version": 3
   },
   "file_extension": ".py",
   "mimetype": "text/x-python",
   "name": "python",
   "nbconvert_exporter": "python",
   "pygments_lexer": "ipython3",
   "version": "3.7.1"
  }
 },
 "nbformat": 4,
 "nbformat_minor": 2
}
