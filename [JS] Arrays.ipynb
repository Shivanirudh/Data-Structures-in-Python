{
 "cells": [
  {
   "cell_type": "markdown",
   "metadata": {},
   "source": [
    "## Reverse String"
   ]
  },
  {
   "cell_type": "code",
   "execution_count": 1,
   "metadata": {},
   "outputs": [
    {
     "data": {
      "text/plain": [
       "'hello world'"
      ]
     },
     "execution_count": 1,
     "metadata": {},
     "output_type": "execute_result"
    }
   ],
   "source": [
    "var a = \"hello world\"\n",
    "a"
   ]
  },
  {
   "cell_type": "code",
   "execution_count": 15,
   "metadata": {},
   "outputs": [],
   "source": [
    "function rev(str){\n",
    "    var temp = []\n",
    "    for (i=str.length-1;i>=0;i--){\n",
    "        temp.push(str[i])\n",
    "    }\n",
    "    return temp.join(\"\");\n",
    "}"
   ]
  },
  {
   "cell_type": "code",
   "execution_count": 18,
   "metadata": {},
   "outputs": [
    {
     "data": {
      "text/plain": [
       "'dlrow olleh'"
      ]
     },
     "execution_count": 18,
     "metadata": {},
     "output_type": "execute_result"
    }
   ],
   "source": [
    "rev(a)"
   ]
  },
  {
   "cell_type": "markdown",
   "metadata": {},
   "source": [
    "## Merge Sorted Arrays"
   ]
  },
  {
   "cell_type": "code",
   "execution_count": 8,
   "metadata": {},
   "outputs": [],
   "source": [
    "function merge(arr1,arr2){\n",
    "    res = []\n",
    "    a = b = 0;\n",
    "    for( var i = 0; i < (arr1.length+arr2.length); i++){\n",
    "        if(arr1[a]!== undefined && arr2[b]!== undefined){\n",
    "            if(arr1[a]<=arr2[b]){\n",
    "                res.push(arr1[a]);\n",
    "                a++\n",
    "            }else{\n",
    "                res.push(arr2[b]);\n",
    "                b++\n",
    "            }\n",
    "        }else{\n",
    "            if(arr2[b] === undefined){\n",
    "                for(var i = a;i < arr1.length; i ++)\n",
    "                    res.push(arr1[i]);\n",
    "            }else{\n",
    "                for(var i = b;i < arr2.length; i ++)\n",
    "                    res.push(arr2[i]);\n",
    "            }\n",
    "            break;\n",
    "        }\n",
    "    }\n",
    "    return res\n",
    "}"
   ]
  },
  {
   "cell_type": "code",
   "execution_count": 15,
   "metadata": {},
   "outputs": [
    {
     "data": {
      "text/plain": [
       "[ 0, 2, 3, 4, 40 ]"
      ]
     },
     "execution_count": 15,
     "metadata": {},
     "output_type": "execute_result"
    }
   ],
   "source": [
    "merge([0,3,40],[2,4])"
   ]
  },
  {
   "cell_type": "code",
   "execution_count": null,
   "metadata": {},
   "outputs": [],
   "source": []
  }
 ],
 "metadata": {
  "kernelspec": {
   "display_name": "Javascript (Node.js)",
   "language": "javascript",
   "name": "javascript"
  },
  "language_info": {
   "file_extension": ".js",
   "mimetype": "application/javascript",
   "name": "javascript",
   "version": "10.15.0"
  }
 },
 "nbformat": 4,
 "nbformat_minor": 2
}
