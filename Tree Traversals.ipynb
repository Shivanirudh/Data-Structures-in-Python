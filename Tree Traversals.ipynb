{
 "cells": [
  {
   "cell_type": "code",
   "execution_count": 38,
   "metadata": {},
   "outputs": [],
   "source": [
    "class Node(object):\n",
    "    def __init__(self,value):\n",
    "        self.value = value\n",
    "        self.left = None\n",
    "        self.right = None\n",
    "\n",
    "class BinarySearchTree(object):\n",
    "    def __init__(self):\n",
    "        self.root = None\n",
    "        \n",
    "    def preOrder(self,root=0):\n",
    "        if(root == 0):\n",
    "            root = self.root\n",
    "        if root is None:\n",
    "            return\n",
    "        print(root.value, end=\" \")\n",
    "        self.preOrder(root.left)\n",
    "        self.preOrder(root.right)\n",
    "        \n",
    "    def inOrder(self,root=0):\n",
    "        if(root == 0):\n",
    "            root = self.root\n",
    "        if root is None:\n",
    "            return\n",
    "        self.inOrder(root.left)\n",
    "        print(root.value, end=\" \")\n",
    "        self.inOrder(root.right)\n",
    "        \n",
    "    def postOrder(self,root=0):\n",
    "        if(root == 0):\n",
    "            root = self.root\n",
    "        if root is None:\n",
    "            return\n",
    "        self.postOrder(root.left)\n",
    "        self.postOrder(root.right)\n",
    "        print(root.value, end=\" \")\n",
    "        \n",
    "    def lookUp(self,value):\n",
    "        if self.root is None:\n",
    "            return \"EMPTY\"\n",
    "        cur = self.root\n",
    "        while(True):\n",
    "            if(value > cur.value):\n",
    "                if cur.right is None:\n",
    "                    return \"ABSENT\"\n",
    "                else:\n",
    "                    cur = cur.right\n",
    "            elif(value < cur.value):\n",
    "                if cur.left is None:\n",
    "                    return \"ABSENT\"\n",
    "                else:\n",
    "                    cur = cur.left\n",
    "            elif(value == cur.value):\n",
    "                return \"FOUND\"\n",
    "            \n",
    "    def findMinVal(self,node):\n",
    "        if node is None:\n",
    "            return None\n",
    "        cur = node\n",
    "        minval = None\n",
    "        while cur is not None:\n",
    "            minval = cur.value\n",
    "            cur = cur.left\n",
    "        return minval\n",
    "    \n",
    "    def insert(self,value):\n",
    "        new = Node(value)\n",
    "        if self.root is None:\n",
    "            self.root = new\n",
    "            return\n",
    "        cur = self.root\n",
    "        while(True):\n",
    "            if(value > cur.value):\n",
    "                if cur.right is None:\n",
    "                    cur.right = new\n",
    "                    return\n",
    "                else:\n",
    "                    cur = cur.right\n",
    "            elif(value < cur.value):\n",
    "                if cur.left is None:\n",
    "                    cur.left= new\n",
    "                    return\n",
    "                else:\n",
    "                    cur = cur.left\n",
    "            elif(value == cur.value):\n",
    "                print(value,\"DUPLICATE\")\n",
    "                return\n",
    "        \n",
    "    def delete(self,value):\n",
    "        if self.root is None:\n",
    "            return \"EMPTY\"\n",
    "        cur = self.root\n",
    "        parent = None\n",
    "        while(True):\n",
    "            if(value > cur.value):\n",
    "                if cur.right is None:\n",
    "                    return \"ABSENT\"\n",
    "                else:\n",
    "                    parent = cur\n",
    "                    cur = cur.right\n",
    "            elif(value < cur.value):\n",
    "                if cur.left is None:\n",
    "                    return \"ABSENT\"\n",
    "                else:\n",
    "                    parent = cur\n",
    "                    cur = cur.left\n",
    "            #VALUE FOUND, DELETE IT\n",
    "            elif(value == cur.value):\n",
    "                #IF LEAF NODE\n",
    "                if cur.left is None and cur.right is None:\n",
    "                    if parent is None:\n",
    "                        self.root = None\n",
    "                    else:\n",
    "                        if parent.left == cur:\n",
    "                            parent.left = None\n",
    "                        else:\n",
    "                            parent.right = None\n",
    "                #EITHER LEFT OR RIGHT NODE IS NOT NULL\n",
    "                elif cur.left is None or cur.right is None:\n",
    "                    if parent is None:\n",
    "                        if cur.left is None:\n",
    "                            self.root = cur.right\n",
    "                        else:\n",
    "                            self.root = cur.left\n",
    "                    else:\n",
    "                        #IF LEFT NODE IS NONE\n",
    "                        if cur.left is None:\n",
    "                            if parent.left == cur:\n",
    "                                parent.left = cur.right\n",
    "                            else:\n",
    "                                parent.right = cur.right\n",
    "                        #IF RIGHT NODE IS NONE\n",
    "                        else:\n",
    "                            if parent.left == cur:\n",
    "                                parent.left = cur.left\n",
    "                            else:\n",
    "                                parent.right = cur.left\n",
    "                #LEFT AND RIGHT NODES ARE NOT NULL\n",
    "                else:\n",
    "                    minval = self.findMinVal(cur.right)\n",
    "                    self.delete(minval)\n",
    "                    cur.value = minval\n",
    "                return"
   ]
  },
  {
   "cell_type": "markdown",
   "metadata": {},
   "source": [
    "## Init"
   ]
  },
  {
   "cell_type": "code",
   "execution_count": 39,
   "metadata": {},
   "outputs": [],
   "source": [
    "bst = BinarySearchTree()\n",
    "arr = [9,4,6,20,170,15,1]\n",
    "for i in arr:\n",
    "    bst.insert(i)"
   ]
  },
  {
   "cell_type": "markdown",
   "metadata": {},
   "source": [
    "## Breadth First Traversal"
   ]
  },
  {
   "cell_type": "code",
   "execution_count": 40,
   "metadata": {},
   "outputs": [],
   "source": [
    "def BFS(root):\n",
    "    traversal = []\n",
    "    queue = []\n",
    "    queue.insert(0,root)\n",
    "    \n",
    "    while(len(queue) > 0):\n",
    "        curNode = queue.pop()\n",
    "        traversal.append(curNode.value)\n",
    "        if(curNode.left is not None):\n",
    "            queue.insert(0,curNode.left)\n",
    "        if(curNode.right is not None):\n",
    "            queue.insert(0,curNode.right)\n",
    "    \n",
    "    return traversal"
   ]
  },
  {
   "cell_type": "code",
   "execution_count": 41,
   "metadata": {},
   "outputs": [
    {
     "data": {
      "text/plain": [
       "[9, 4, 20, 1, 6, 15, 170]"
      ]
     },
     "execution_count": 41,
     "metadata": {},
     "output_type": "execute_result"
    }
   ],
   "source": [
    "BFS(bst.root)"
   ]
  },
  {
   "cell_type": "markdown",
   "metadata": {},
   "source": [
    "## Depth First Traversal"
   ]
  },
  {
   "cell_type": "code",
   "execution_count": 42,
   "metadata": {},
   "outputs": [],
   "source": [
    "def traverseInorder(node, traversal):\n",
    "    print(node.value)\n",
    "    if(node.left is not None):\n",
    "        traverseInorder(node.left, traversal)\n",
    "    traversal.append(node.value)\n",
    "    if(node.right is not None):\n",
    "        traverseInorder(node.right, traversal)\n",
    "    return traversal\n",
    "\n",
    "def traversePostorder(node, traversal):\n",
    "    print(node.value)\n",
    "    if(node.left is not None):\n",
    "        traversePostorder(node.left, traversal)\n",
    "    if(node.right is not None):\n",
    "        traversePostorder(node.right, traversal)\n",
    "    traversal.append(node.value)\n",
    "    return traversal\n",
    "\n",
    "def traversePreorder(node, traversal):\n",
    "    print(node.value)\n",
    "    traversal.append(node.value)\n",
    "    if(node.left is not None):\n",
    "        traversePreorder(node.left, traversal)\n",
    "    if(node.right is not None):\n",
    "        traversePreorder(node.right, traversal)\n",
    "    return traversal\n",
    "\n",
    "def DFSinorder(root):\n",
    "    return traverseInorder(root, [])\n",
    "    \n",
    "def DFSpostorder(root):\n",
    "    return traversePostorder(root, [])\n",
    "    \n",
    "def DFSpreorder(root):\n",
    "    return traversePreorder(root, [])"
   ]
  },
  {
   "cell_type": "code",
   "execution_count": 43,
   "metadata": {},
   "outputs": [
    {
     "name": "stdout",
     "output_type": "stream",
     "text": [
      "9\n",
      "4\n",
      "1\n",
      "6\n",
      "20\n",
      "15\n",
      "170\n"
     ]
    },
    {
     "data": {
      "text/plain": [
       "[1, 4, 6, 9, 15, 20, 170]"
      ]
     },
     "execution_count": 43,
     "metadata": {},
     "output_type": "execute_result"
    }
   ],
   "source": [
    "DFSinorder(bst.root)"
   ]
  },
  {
   "cell_type": "code",
   "execution_count": 44,
   "metadata": {},
   "outputs": [
    {
     "name": "stdout",
     "output_type": "stream",
     "text": [
      "9\n",
      "4\n",
      "1\n",
      "6\n",
      "20\n",
      "15\n",
      "170\n"
     ]
    },
    {
     "data": {
      "text/plain": [
       "[9, 4, 1, 6, 20, 15, 170]"
      ]
     },
     "execution_count": 44,
     "metadata": {},
     "output_type": "execute_result"
    }
   ],
   "source": [
    "DFSpreorder(bst.root)"
   ]
  },
  {
   "cell_type": "code",
   "execution_count": 45,
   "metadata": {},
   "outputs": [
    {
     "name": "stdout",
     "output_type": "stream",
     "text": [
      "9\n",
      "4\n",
      "1\n",
      "6\n",
      "20\n",
      "15\n",
      "170\n"
     ]
    },
    {
     "data": {
      "text/plain": [
       "[1, 6, 4, 15, 170, 20, 9]"
      ]
     },
     "execution_count": 45,
     "metadata": {},
     "output_type": "execute_result"
    }
   ],
   "source": [
    "DFSpostorder(bst.root)"
   ]
  }
 ],
 "metadata": {
  "kernelspec": {
   "display_name": "Python 3",
   "language": "python",
   "name": "python3"
  },
  "language_info": {
   "codemirror_mode": {
    "name": "ipython",
    "version": 3
   },
   "file_extension": ".py",
   "mimetype": "text/x-python",
   "name": "python",
   "nbconvert_exporter": "python",
   "pygments_lexer": "ipython3",
   "version": "3.7.1"
  }
 },
 "nbformat": 4,
 "nbformat_minor": 2
}
