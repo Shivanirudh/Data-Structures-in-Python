{
 "cells": [
  {
   "cell_type": "markdown",
   "metadata": {},
   "source": [
    "# Tries"
   ]
  },
  {
   "cell_type": "code",
   "execution_count": 88,
   "metadata": {},
   "outputs": [],
   "source": [
    "class TrieNode(object):\n",
    "    def __init__(self, char):\n",
    "        self.char = char\n",
    "        self.children = []\n",
    "        # Is it the last character of the word.\n",
    "        self.word_finished = False\n",
    "        # How many times this character appeared in the addition process\n",
    "        self.counter = 1\n",
    "    \n",
    "    def __repr__(self):\n",
    "        return (\"\\nCHAR:%s CHILDREN:\\n%s\" % (self.char,self.children))\n",
    "        \n",
    "def add(root, word):\n",
    "    node = root\n",
    "    for char in word:\n",
    "        found_in_child = False\n",
    "        # Search for the character in the children of the present `node`\n",
    "        for child in node.children:\n",
    "            if child.char == char:\n",
    "                # if found, counter++ since another word also has it\n",
    "                found_in_child = True\n",
    "                child.counter += 1\n",
    "                # cur node = node which has the char\n",
    "                node = child\n",
    "                break\n",
    "        # We did not find it so add a new chlid\n",
    "        if not found_in_child:\n",
    "            new_node = TrieNode(char)\n",
    "            node.children.append(new_node)\n",
    "            # cur node = new child\n",
    "            node = new_node\n",
    "    # Everything finished. Mark it as the end of a word.\n",
    "    node.word_finished = True\n",
    "\n",
    "def findPrefix(root, prefix):\n",
    "    \"\"\"\n",
    "    RETURNS:\n",
    "      1. if prefix exists [bool]\n",
    "      2. count of words with prefix [int]\n",
    "    \"\"\"\n",
    "    node = root\n",
    "    if not root.children:\n",
    "        return False, 0\n",
    "    \n",
    "    for char in prefix:\n",
    "        char_found = False\n",
    "        # Search through all the children of the present `node`\n",
    "        for child in node.children:\n",
    "            if child.char == char:\n",
    "                # We found the char existing in the child.\n",
    "                char_found = True\n",
    "                # Assign node as the child containing the char and break\n",
    "                node = child\n",
    "                break\n",
    "        # Return False anyway when we did not find a char.\n",
    "        if not char_found:\n",
    "            return False, 0\n",
    "    return True, node.counter"
   ]
  },
  {
   "cell_type": "code",
   "execution_count": 89,
   "metadata": {},
   "outputs": [],
   "source": [
    "root = TrieNode('*')\n",
    "add(root, \"hackathon\")\n",
    "add(root, \"hack\")\n",
    "add(root, \"disappointed\")\n",
    "add(root, \"disapproval\")"
   ]
  },
  {
   "cell_type": "code",
   "execution_count": 90,
   "metadata": {},
   "outputs": [
    {
     "name": "stdout",
     "output_type": "stream",
     "text": [
      "(True, 2)\n",
      "(True, 2)\n",
      "(True, 1)\n",
      "(True, 2)\n",
      "(False, 0)\n"
     ]
    }
   ],
   "source": [
    "print(find_prefix(root, 'hac'))\n",
    "print(find_prefix(root, 'hack'))\n",
    "print(find_prefix(root, 'hackathon'))\n",
    "print(find_prefix(root, 'ha'))\n",
    "print(find_prefix(root, 'hammer'))"
   ]
  },
  {
   "cell_type": "code",
   "execution_count": 91,
   "metadata": {},
   "outputs": [
    {
     "data": {
      "text/plain": [
       "\n",
       "CHAR:* CHILDREN:\n",
       "[\n",
       "CHAR:h CHILDREN:\n",
       "[\n",
       "CHAR:a CHILDREN:\n",
       "[\n",
       "CHAR:c CHILDREN:\n",
       "[\n",
       "CHAR:k CHILDREN:\n",
       "[\n",
       "CHAR:a CHILDREN:\n",
       "[\n",
       "CHAR:t CHILDREN:\n",
       "[\n",
       "CHAR:h CHILDREN:\n",
       "[\n",
       "CHAR:o CHILDREN:\n",
       "[\n",
       "CHAR:n CHILDREN:\n",
       "[]]]]]]]]], \n",
       "CHAR:d CHILDREN:\n",
       "[\n",
       "CHAR:i CHILDREN:\n",
       "[\n",
       "CHAR:s CHILDREN:\n",
       "[\n",
       "CHAR:a CHILDREN:\n",
       "[\n",
       "CHAR:p CHILDREN:\n",
       "[\n",
       "CHAR:p CHILDREN:\n",
       "[\n",
       "CHAR:o CHILDREN:\n",
       "[\n",
       "CHAR:i CHILDREN:\n",
       "[\n",
       "CHAR:n CHILDREN:\n",
       "[\n",
       "CHAR:t CHILDREN:\n",
       "[\n",
       "CHAR:e CHILDREN:\n",
       "[\n",
       "CHAR:d CHILDREN:\n",
       "[]]]]]], \n",
       "CHAR:r CHILDREN:\n",
       "[\n",
       "CHAR:o CHILDREN:\n",
       "[\n",
       "CHAR:v CHILDREN:\n",
       "[\n",
       "CHAR:a CHILDREN:\n",
       "[\n",
       "CHAR:l CHILDREN:\n",
       "[]]]]]]]]]]]]"
      ]
     },
     "execution_count": 91,
     "metadata": {},
     "output_type": "execute_result"
    }
   ],
   "source": [
    "root"
   ]
  }
 ],
 "metadata": {
  "kernelspec": {
   "display_name": "Python 3",
   "language": "python",
   "name": "python3"
  },
  "language_info": {
   "codemirror_mode": {
    "name": "ipython",
    "version": 3
   },
   "file_extension": ".py",
   "mimetype": "text/x-python",
   "name": "python",
   "nbconvert_exporter": "python",
   "pygments_lexer": "ipython3",
   "version": "3.7.1"
  }
 },
 "nbformat": 4,
 "nbformat_minor": 2
}
