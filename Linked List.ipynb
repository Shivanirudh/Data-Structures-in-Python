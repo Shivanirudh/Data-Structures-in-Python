{
 "cells": [
  {
   "cell_type": "markdown",
   "metadata": {},
   "source": [
    "# Linked List"
   ]
  },
  {
   "cell_type": "code",
   "execution_count": 179,
   "metadata": {},
   "outputs": [],
   "source": [
    "class Node(object):\n",
    "    def __init__(self,value):\n",
    "        self.value = value\n",
    "        self.next = None\n",
    "        \n",
    "def createList(arr):\n",
    "    head = None\n",
    "    tail = None\n",
    "    for i in arr:\n",
    "        temp = Node(i)\n",
    "        if (head == None):\n",
    "            head = temp\n",
    "        if (tail != None):\n",
    "            tail.next = temp\n",
    "            tail = temp\n",
    "        else:\n",
    "            tail = temp\n",
    "    return head,tail\n",
    "        \n",
    "def printList(head):\n",
    "    temp = head\n",
    "    while(temp != None):\n",
    "        print(temp.value, end=\" - \")\n",
    "        temp = temp.next\n",
    "    print(\"NULL\")\n",
    "        \n",
    "def prepend(head,value):\n",
    "    temp = Node(value)\n",
    "    temp.next = head\n",
    "    head = temp\n",
    "    return head\n",
    "        \n",
    "def append(tail,value):\n",
    "    temp = Node(value)\n",
    "    tail.next = temp\n",
    "    tail = temp\n",
    "    return tail\n",
    "\n",
    "def insert(head,index,value):\n",
    "    temp = head\n",
    "    for i in range(index-1):\n",
    "        temp = temp.next\n",
    "        if temp == None:\n",
    "            return head\n",
    "    new = Node(value)\n",
    "    new.next = temp.next\n",
    "    temp.next = new\n",
    "    return head\n",
    "\n",
    "def delete(head,index):\n",
    "    temp = head\n",
    "    for i in range(index-1):\n",
    "        temp = temp.next\n",
    "    temp.next = temp.next.next\n",
    "    return head\n"
   ]
  },
  {
   "cell_type": "markdown",
   "metadata": {},
   "source": [
    "## Testing"
   ]
  },
  {
   "cell_type": "code",
   "execution_count": 166,
   "metadata": {},
   "outputs": [],
   "source": [
    "head,tail = createList([1,2,3,4,5])"
   ]
  },
  {
   "cell_type": "code",
   "execution_count": 167,
   "metadata": {},
   "outputs": [
    {
     "name": "stdout",
     "output_type": "stream",
     "text": [
      "1    5\n"
     ]
    }
   ],
   "source": [
    "print(head.value,\"  \",tail.value)"
   ]
  },
  {
   "cell_type": "code",
   "execution_count": 168,
   "metadata": {},
   "outputs": [
    {
     "name": "stdout",
     "output_type": "stream",
     "text": [
      "1 - 2 - 3 - 4 - 5 - NULL\n"
     ]
    }
   ],
   "source": [
    "printList(head)"
   ]
  },
  {
   "cell_type": "markdown",
   "metadata": {},
   "source": [
    "#### Append"
   ]
  },
  {
   "cell_type": "code",
   "execution_count": 169,
   "metadata": {},
   "outputs": [],
   "source": [
    "tail = append(tail,6)"
   ]
  },
  {
   "cell_type": "code",
   "execution_count": 170,
   "metadata": {},
   "outputs": [
    {
     "name": "stdout",
     "output_type": "stream",
     "text": [
      "1 - 2 - 3 - 4 - 5 - 6 - NULL\n"
     ]
    }
   ],
   "source": [
    "printList(head)"
   ]
  },
  {
   "cell_type": "code",
   "execution_count": 171,
   "metadata": {},
   "outputs": [
    {
     "data": {
      "text/plain": [
       "6"
      ]
     },
     "execution_count": 171,
     "metadata": {},
     "output_type": "execute_result"
    }
   ],
   "source": [
    "tail.value"
   ]
  },
  {
   "cell_type": "markdown",
   "metadata": {},
   "source": [
    "#### Prepend"
   ]
  },
  {
   "cell_type": "code",
   "execution_count": 172,
   "metadata": {},
   "outputs": [],
   "source": [
    "head = prepend(head,0)"
   ]
  },
  {
   "cell_type": "code",
   "execution_count": 173,
   "metadata": {},
   "outputs": [
    {
     "name": "stdout",
     "output_type": "stream",
     "text": [
      "0 - 1 - 2 - 3 - 4 - 5 - 6 - NULL\n"
     ]
    }
   ],
   "source": [
    "printList(head)"
   ]
  },
  {
   "cell_type": "code",
   "execution_count": 174,
   "metadata": {},
   "outputs": [
    {
     "data": {
      "text/plain": [
       "0"
      ]
     },
     "execution_count": 174,
     "metadata": {},
     "output_type": "execute_result"
    }
   ],
   "source": [
    "head.value"
   ]
  },
  {
   "cell_type": "markdown",
   "metadata": {},
   "source": [
    "#### Insert"
   ]
  },
  {
   "cell_type": "code",
   "execution_count": 175,
   "metadata": {},
   "outputs": [],
   "source": [
    "head = insert(head,3,'X')"
   ]
  },
  {
   "cell_type": "code",
   "execution_count": 176,
   "metadata": {},
   "outputs": [
    {
     "name": "stdout",
     "output_type": "stream",
     "text": [
      "0 - 1 - 2 - X - 3 - 4 - 5 - 6 - NULL\n"
     ]
    }
   ],
   "source": [
    "printList(head)"
   ]
  },
  {
   "cell_type": "markdown",
   "metadata": {},
   "source": [
    "#### Delete"
   ]
  },
  {
   "cell_type": "code",
   "execution_count": 180,
   "metadata": {},
   "outputs": [],
   "source": [
    "head = delete(head,3)"
   ]
  },
  {
   "cell_type": "code",
   "execution_count": 181,
   "metadata": {},
   "outputs": [
    {
     "name": "stdout",
     "output_type": "stream",
     "text": [
      "0 - 1 - 2 - 3 - 4 - 5 - 6 - NULL\n"
     ]
    }
   ],
   "source": [
    "printList(head)"
   ]
  },
  {
   "cell_type": "code",
   "execution_count": null,
   "metadata": {},
   "outputs": [],
   "source": []
  }
 ],
 "metadata": {
  "kernelspec": {
   "display_name": "Python 3",
   "language": "python",
   "name": "python3"
  },
  "language_info": {
   "codemirror_mode": {
    "name": "ipython",
    "version": 3
   },
   "file_extension": ".py",
   "mimetype": "text/x-python",
   "name": "python",
   "nbconvert_exporter": "python",
   "pygments_lexer": "ipython3",
   "version": "3.7.1"
  }
 },
 "nbformat": 4,
 "nbformat_minor": 2
}
