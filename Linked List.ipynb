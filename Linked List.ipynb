{
 "cells": [
  {
   "cell_type": "markdown",
   "metadata": {},
   "source": [
    "# Linked List"
   ]
  },
  {
   "cell_type": "code",
   "execution_count": 126,
   "metadata": {},
   "outputs": [],
   "source": [
    "class Node(object):\n",
    "    def __init__(self,value):\n",
    "        self.value = value\n",
    "        self.next = None\n",
    "        \n",
    "def createList(arr):\n",
    "    head = None\n",
    "    tail = None\n",
    "    for i in arr:\n",
    "        temp = Node(i)\n",
    "        if (head == None):\n",
    "            head = temp\n",
    "        if (tail != None):\n",
    "            tail.next = temp\n",
    "            tail = temp\n",
    "        else:\n",
    "            tail = temp\n",
    "    return head,tail\n",
    "        \n",
    "def printList(head):\n",
    "    temp = head\n",
    "    while(temp != None):\n",
    "        print(temp.value, end=\" - \")\n",
    "        temp = temp.next\n",
    "    print(\"NULL\")\n",
    "        \n",
    "def prepend(head,value):\n",
    "    temp = Node(value)\n",
    "    temp.next = head\n",
    "    head = temp\n",
    "    return head\n",
    "        \n",
    "def append(tail,value):\n",
    "    temp = Node(value)\n",
    "    tail.next = temp\n",
    "    tail = temp\n",
    "    return tail\n",
    "\n",
    "def insert(head,index,value):\n",
    "    temp = head\n",
    "    for i in range(index-1):\n",
    "        temp = temp.next\n",
    "        if temp == None:\n",
    "            return head\n",
    "    new = Node(value)\n",
    "    new.next = temp.next\n",
    "    temp.next = new\n",
    "    return head\n",
    "\n",
    "def delete(head,index):\n",
    "    temp = head\n",
    "    for i in range(index-1):\n",
    "        temp = temp.next\n",
    "    temp.next = temp.next.next\n",
    "    return head\n",
    "\n",
    "#For more than 1 element\n",
    "def reverse(head,tail):\n",
    "    first = head\n",
    "    second = head.next\n",
    "    while(second != None):\n",
    "        temp = second.next\n",
    "        second.next = first \n",
    "        first = second\n",
    "        second = temp\n",
    "    head.next = None\n",
    "    head,tail = tail,head\n",
    "    return head,tail"
   ]
  },
  {
   "cell_type": "markdown",
   "metadata": {},
   "source": [
    "## Testing"
   ]
  },
  {
   "cell_type": "code",
   "execution_count": 127,
   "metadata": {},
   "outputs": [
    {
     "name": "stdout",
     "output_type": "stream",
     "text": [
      "1    5\n"
     ]
    }
   ],
   "source": [
    "head,tail = createList([1,2,3,4,5])\n",
    "print(head.value,\"  \",tail.value)"
   ]
  },
  {
   "cell_type": "code",
   "execution_count": 128,
   "metadata": {},
   "outputs": [
    {
     "name": "stdout",
     "output_type": "stream",
     "text": [
      "1 - 2 - 3 - 4 - 5 - NULL\n"
     ]
    }
   ],
   "source": [
    "printList(head)"
   ]
  },
  {
   "cell_type": "markdown",
   "metadata": {},
   "source": [
    "#### Append"
   ]
  },
  {
   "cell_type": "code",
   "execution_count": 129,
   "metadata": {},
   "outputs": [
    {
     "name": "stdout",
     "output_type": "stream",
     "text": [
      "1 - 2 - 3 - 4 - 5 - 6 - NULL\n"
     ]
    }
   ],
   "source": [
    "tail = append(tail,6)\n",
    "printList(head)"
   ]
  },
  {
   "cell_type": "code",
   "execution_count": 130,
   "metadata": {},
   "outputs": [
    {
     "data": {
      "text/plain": [
       "6"
      ]
     },
     "execution_count": 130,
     "metadata": {},
     "output_type": "execute_result"
    }
   ],
   "source": [
    "tail.value"
   ]
  },
  {
   "cell_type": "markdown",
   "metadata": {},
   "source": [
    "#### Prepend"
   ]
  },
  {
   "cell_type": "code",
   "execution_count": 131,
   "metadata": {},
   "outputs": [
    {
     "name": "stdout",
     "output_type": "stream",
     "text": [
      "0 - 1 - 2 - 3 - 4 - 5 - 6 - NULL\n"
     ]
    }
   ],
   "source": [
    "head = prepend(head,0)\n",
    "printList(head)"
   ]
  },
  {
   "cell_type": "code",
   "execution_count": 132,
   "metadata": {},
   "outputs": [
    {
     "data": {
      "text/plain": [
       "0"
      ]
     },
     "execution_count": 132,
     "metadata": {},
     "output_type": "execute_result"
    }
   ],
   "source": [
    "head.value"
   ]
  },
  {
   "cell_type": "markdown",
   "metadata": {},
   "source": [
    "#### Insert"
   ]
  },
  {
   "cell_type": "code",
   "execution_count": 133,
   "metadata": {},
   "outputs": [
    {
     "name": "stdout",
     "output_type": "stream",
     "text": [
      "0 - 1 - 2 - X - 3 - 4 - 5 - 6 - NULL\n"
     ]
    }
   ],
   "source": [
    "head = insert(head,3,'X')\n",
    "printList(head)"
   ]
  },
  {
   "cell_type": "markdown",
   "metadata": {},
   "source": [
    "#### Delete"
   ]
  },
  {
   "cell_type": "code",
   "execution_count": 134,
   "metadata": {},
   "outputs": [
    {
     "name": "stdout",
     "output_type": "stream",
     "text": [
      "0 - 1 - 2 - 3 - 4 - 5 - 6 - NULL\n"
     ]
    }
   ],
   "source": [
    "head = delete(head,3)\n",
    "printList(head)"
   ]
  },
  {
   "cell_type": "markdown",
   "metadata": {},
   "source": [
    "## Reverse singly linked list"
   ]
  },
  {
   "cell_type": "code",
   "execution_count": 135,
   "metadata": {},
   "outputs": [
    {
     "name": "stdout",
     "output_type": "stream",
     "text": [
      "1 - 2 - 3 - 4 - 5 - NULL\n"
     ]
    }
   ],
   "source": [
    "rHead,rTail = createList([1,2,3,4,5])\n",
    "printList(rHead)"
   ]
  },
  {
   "cell_type": "code",
   "execution_count": 136,
   "metadata": {},
   "outputs": [
    {
     "name": "stdout",
     "output_type": "stream",
     "text": [
      "5 - 4 - 3 - 2 - 1 - NULL\n"
     ]
    }
   ],
   "source": [
    "rHead,rTail = reverse(rHead,rTail)\n",
    "printList(rHead)"
   ]
  },
  {
   "cell_type": "markdown",
   "metadata": {},
   "source": [
    "# Doubly Linked List"
   ]
  },
  {
   "cell_type": "code",
   "execution_count": 137,
   "metadata": {},
   "outputs": [],
   "source": [
    "class DoubleNode(object):\n",
    "    def __init__(self,value):\n",
    "        self.value = value\n",
    "        self.next = None\n",
    "        self.prev = None\n",
    "                \n",
    "def createDoubleList(arr):\n",
    "    dHead = None\n",
    "    dTail = None\n",
    "    for i in arr:\n",
    "        temp = DoubleNode(i)\n",
    "        if (dHead == None):\n",
    "            dHead = temp\n",
    "        if (dTail != None):\n",
    "            temp.prev = dTail\n",
    "            dTail.next = temp\n",
    "            dTail = temp\n",
    "        else:\n",
    "            dTail = temp\n",
    "    return dHead,dTail"
   ]
  },
  {
   "cell_type": "code",
   "execution_count": 138,
   "metadata": {},
   "outputs": [],
   "source": [
    "dHead,dTail = createDoubleList([1,2,3,4,5])"
   ]
  }
 ],
 "metadata": {
  "kernelspec": {
   "display_name": "Python 3",
   "language": "python",
   "name": "python3"
  },
  "language_info": {
   "codemirror_mode": {
    "name": "ipython",
    "version": 3
   },
   "file_extension": ".py",
   "mimetype": "text/x-python",
   "name": "python",
   "nbconvert_exporter": "python",
   "pygments_lexer": "ipython3",
   "version": "3.7.1"
  }
 },
 "nbformat": 4,
 "nbformat_minor": 2
}
