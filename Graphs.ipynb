{
 "cells": [
  {
   "cell_type": "markdown",
   "metadata": {},
   "source": [
    "# Graphs"
   ]
  },
  {
   "cell_type": "code",
   "execution_count": 28,
   "metadata": {},
   "outputs": [],
   "source": [
    "class Graph(object):\n",
    "    def __init__(self):\n",
    "        self.nodeCount = 0\n",
    "        self.adjacentList = {}\n",
    "    \n",
    "    def __repr__(self):\n",
    "        return (\"%s\" % self.adjacentList)\n",
    "    \n",
    "    def addVertex(self,node):\n",
    "        if node in self.adjacentList.keys():\n",
    "            return False\n",
    "        self.nodeCount += 1\n",
    "        self.adjacentList[node] = []\n",
    "        return True\n",
    "    \n",
    "    def addEdge(self,node1,node2):\n",
    "        if (node1 not in self.adjacentList.keys()) or (node2 not in self.adjacentList.keys()):\n",
    "            return False\n",
    "        self.adjacentList[node1].append(node2)\n",
    "        self.adjacentList[node2].append(node1)\n",
    "        return True"
   ]
  },
  {
   "cell_type": "code",
   "execution_count": 35,
   "metadata": {},
   "outputs": [
    {
     "data": {
      "text/plain": [
       "True"
      ]
     },
     "execution_count": 35,
     "metadata": {},
     "output_type": "execute_result"
    }
   ],
   "source": [
    "g = Graph()\n",
    "g.addVertex(0)\n",
    "g.addVertex(1)\n",
    "g.addVertex(2)\n",
    "g.addVertex(3)\n",
    "g.addVertex(4)\n",
    "g.addVertex(5)\n",
    "g.addVertex(6)\n",
    "g.addEdge(3,1)\n",
    "g.addEdge(3,4)\n",
    "g.addEdge(4,2)\n",
    "g.addEdge(4,5)\n",
    "g.addEdge(1,2)\n",
    "g.addEdge(1,0)\n",
    "g.addEdge(0,2)\n",
    "g.addEdge(6,5)"
   ]
  },
  {
   "cell_type": "code",
   "execution_count": 36,
   "metadata": {},
   "outputs": [
    {
     "data": {
      "text/plain": [
       "{0: [1, 2], 1: [3, 2, 0], 2: [4, 1, 0], 3: [1, 4], 4: [3, 2, 5], 5: [4, 6], 6: [5]}"
      ]
     },
     "execution_count": 36,
     "metadata": {},
     "output_type": "execute_result"
    }
   ],
   "source": [
    "g"
   ]
  }
 ],
 "metadata": {
  "kernelspec": {
   "display_name": "Python 3",
   "language": "python",
   "name": "python3"
  },
  "language_info": {
   "codemirror_mode": {
    "name": "ipython",
    "version": 3
   },
   "file_extension": ".py",
   "mimetype": "text/x-python",
   "name": "python",
   "nbconvert_exporter": "python",
   "pygments_lexer": "ipython3",
   "version": "3.7.1"
  }
 },
 "nbformat": 4,
 "nbformat_minor": 2
}
