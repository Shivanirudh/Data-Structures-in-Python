{
 "cells": [
  {
   "cell_type": "markdown",
   "metadata": {},
   "source": [
    "# Queues"
   ]
  },
  {
   "cell_type": "code",
   "execution_count": 56,
   "metadata": {},
   "outputs": [],
   "source": [
    "class Node(object):\n",
    "    def __init__(self,value):\n",
    "        self.value = value\n",
    "        self.next = None\n",
    "        \n",
    "#QUEUE DIRECTION: <-\n",
    "class Queue(object):\n",
    "    def __init__(self):\n",
    "        self.first = None\n",
    "        self.last = None\n",
    "        self.length = 0\n",
    "    \n",
    "    def printQueue(self):\n",
    "        temp = self.first\n",
    "        print(\"FRONT|\",end=\" \")\n",
    "        while(temp != None):\n",
    "            print(temp.value,end=\" \")\n",
    "            temp = temp.next\n",
    "        print(\"|REAR\")\n",
    "\n",
    "    def peek(self):\n",
    "        return self.first.value\n",
    "    \n",
    "    def enqueue(self,value):\n",
    "        new = Node(value)\n",
    "        if(self.length == 0):\n",
    "            self.first = new\n",
    "            self.last = new\n",
    "        else:\n",
    "            self.last.next = new\n",
    "            self.last = new\n",
    "        self.length += 1\n",
    "        \n",
    "    def dequeue(self):\n",
    "        if(self.length == 0):\n",
    "            return None\n",
    "        temp = self.first\n",
    "        self.first = self.first.next\n",
    "        self.length -= 1\n",
    "        return temp.value"
   ]
  },
  {
   "cell_type": "markdown",
   "metadata": {},
   "source": [
    "## Testing"
   ]
  },
  {
   "cell_type": "code",
   "execution_count": 57,
   "metadata": {},
   "outputs": [],
   "source": [
    "que = Queue()"
   ]
  },
  {
   "cell_type": "code",
   "execution_count": 58,
   "metadata": {},
   "outputs": [
    {
     "name": "stdout",
     "output_type": "stream",
     "text": [
      "PEEK 1\n",
      "FRONT| 1 2 3 |REAR\n"
     ]
    }
   ],
   "source": [
    "que.enqueue(1)\n",
    "que.enqueue(2)\n",
    "que.enqueue(3)\n",
    "print(\"PEEK\",que.peek())\n",
    "que.printQueue()"
   ]
  },
  {
   "cell_type": "code",
   "execution_count": 59,
   "metadata": {},
   "outputs": [
    {
     "name": "stdout",
     "output_type": "stream",
     "text": [
      "1\n",
      "FRONT| 2 3 |REAR\n"
     ]
    }
   ],
   "source": [
    "print(que.dequeue())\n",
    "que.printQueue()"
   ]
  }
 ],
 "metadata": {
  "kernelspec": {
   "display_name": "Python 3",
   "language": "python",
   "name": "python3"
  },
  "language_info": {
   "codemirror_mode": {
    "name": "ipython",
    "version": 3
   },
   "file_extension": ".py",
   "mimetype": "text/x-python",
   "name": "python",
   "nbconvert_exporter": "python",
   "pygments_lexer": "ipython3",
   "version": "3.7.1"
  }
 },
 "nbformat": 4,
 "nbformat_minor": 2
}
